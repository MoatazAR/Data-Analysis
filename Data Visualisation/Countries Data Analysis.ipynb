{
 "cells": [
  {
   "cell_type": "code",
   "execution_count": 1,
   "metadata": {},
   "outputs": [],
   "source": [
    "import pandas as pd"
   ]
  },
  {
   "cell_type": "code",
   "execution_count": 3,
   "metadata": {},
   "outputs": [],
   "source": [
    "from matplotlib import pyplot as plt"
   ]
  },
  {
   "cell_type": "code",
   "execution_count": 4,
   "metadata": {},
   "outputs": [],
   "source": [
    "countries = pd.read_csv('countries.csv')"
   ]
  },
  {
   "cell_type": "code",
   "execution_count": 5,
   "metadata": {},
   "outputs": [
    {
     "data": {
      "image/png": "[encoded data removed]",
      "text/plain": [
       "<Figure size 432x288 with 1 Axes>"
      ]
     },
     "metadata": {
      "needs_background": "light"
     },
     "output_type": "display_data"
    }
   ],
   "source": [
    "cuba = countries[countries.country==\"Cuba\"]\n",
    "plt.plot(cuba.year,cuba.population)\n",
    "plt.xlabel(\"year\")\n",
    "plt.ylabel(\"population\")\n",
    "plt.show()"
   ]
  },
  {
   "cell_type": "code",
   "execution_count": 6,
   "metadata": {},
   "outputs": [
    {
     "data": {
      "text/html": [
       "<div>\n",
       "<style scoped>\n",
       "    .dataframe tbody tr th:only-of-type {\n",
       "        vertical-align: middle;\n",
       "    }\n",
       "\n",
       "    .dataframe tbody tr th {\n",
       "        vertical-align: top;\n",
       "    }\n",
       "\n",
       "    .dataframe thead th {\n",
       "        text-align: right;\n",
       "    }\n",
       "</style>\n",
       "<table border=\"1\" class=\"dataframe\">\n",
       "  <thead>\n",
       "    <tr style=\"text-align: right;\">\n",
       "      <th></th>\n",
       "      <th>country</th>\n",
       "      <th>year</th>\n",
       "      <th>population</th>\n",
       "    </tr>\n",
       "  </thead>\n",
       "  <tbody>\n",
       "    <tr>\n",
       "      <th>384</th>\n",
       "      <td>Cuba</td>\n",
       "      <td>1952</td>\n",
       "      <td>6007797</td>\n",
       "    </tr>\n",
       "    <tr>\n",
       "      <th>385</th>\n",
       "      <td>Cuba</td>\n",
       "      <td>1957</td>\n",
       "      <td>6640752</td>\n",
       "    </tr>\n",
       "    <tr>\n",
       "      <th>386</th>\n",
       "      <td>Cuba</td>\n",
       "      <td>1962</td>\n",
       "      <td>7254373</td>\n",
       "    </tr>\n",
       "    <tr>\n",
       "      <th>387</th>\n",
       "      <td>Cuba</td>\n",
       "      <td>1967</td>\n",
       "      <td>8139332</td>\n",
       "    </tr>\n",
       "    <tr>\n",
       "      <th>388</th>\n",
       "      <td>Cuba</td>\n",
       "      <td>1972</td>\n",
       "      <td>8831348</td>\n",
       "    </tr>\n",
       "    <tr>\n",
       "      <th>389</th>\n",
       "      <td>Cuba</td>\n",
       "      <td>1977</td>\n",
       "      <td>9537988</td>\n",
       "    </tr>\n",
       "    <tr>\n",
       "      <th>390</th>\n",
       "      <td>Cuba</td>\n",
       "      <td>1982</td>\n",
       "      <td>9789224</td>\n",
       "    </tr>\n",
       "    <tr>\n",
       "      <th>391</th>\n",
       "      <td>Cuba</td>\n",
       "      <td>1987</td>\n",
       "      <td>10239839</td>\n",
       "    </tr>\n",
       "    <tr>\n",
       "      <th>392</th>\n",
       "      <td>Cuba</td>\n",
       "      <td>1992</td>\n",
       "      <td>10723260</td>\n",
       "    </tr>\n",
       "    <tr>\n",
       "      <th>393</th>\n",
       "      <td>Cuba</td>\n",
       "      <td>1997</td>\n",
       "      <td>10983007</td>\n",
       "    </tr>\n",
       "    <tr>\n",
       "      <th>394</th>\n",
       "      <td>Cuba</td>\n",
       "      <td>2002</td>\n",
       "      <td>11226999</td>\n",
       "    </tr>\n",
       "    <tr>\n",
       "      <th>395</th>\n",
       "      <td>Cuba</td>\n",
       "      <td>2007</td>\n",
       "      <td>11416987</td>\n",
       "    </tr>\n",
       "  </tbody>\n",
       "</table>\n",
       "</div>"
      ],
      "text/plain": [
       "    country  year  population\n",
       "384    Cuba  1952     6007797\n",
       "385    Cuba  1957     6640752\n",
       "386    Cuba  1962     7254373\n",
       "387    Cuba  1967     8139332\n",
       "388    Cuba  1972     8831348\n",
       "389    Cuba  1977     9537988\n",
       "390    Cuba  1982     9789224\n",
       "391    Cuba  1987    10239839\n",
       "392    Cuba  1992    10723260\n",
       "393    Cuba  1997    10983007\n",
       "394    Cuba  2002    11226999\n",
       "395    Cuba  2007    11416987"
      ]
     },
     "execution_count": 6,
     "metadata": {},
     "output_type": "execute_result"
    }
   ],
   "source": [
    "cuba"
   ]
  },
  {
   "cell_type": "code",
   "execution_count": 7,
   "metadata": {},
   "outputs": [],
   "source": [
    "countries = pd.read_csv('countriesfull.csv')"
   ]
  },
  {
   "cell_type": "code",
   "execution_count": 11,
   "metadata": {},
   "outputs": [
    {
     "data": {
      "text/plain": [
       "{'Africa', 'Americas', 'Asia', 'Europe', 'Oceania'}"
      ]
     },
     "execution_count": 11,
     "metadata": {},
     "output_type": "execute_result"
    }
   ],
   "source": [
    "set(countries.continent)"
   ]
  },
  {
   "cell_type": "code",
   "execution_count": 14,
   "metadata": {},
   "outputs": [],
   "source": [
    "countries_2007= countries[countries.year==2007]\n",
    "asia_2007 = countries_2007[countries_2007.continent==\"Asia\"]\n",
    "europe_2007 = countries_2007[countries_2007.continent==\"Europe\"]"
   ]
  },
  {
   "cell_type": "code",
   "execution_count": 19,
   "metadata": {},
   "outputs": [
    {
     "data": {
      "text/plain": [
       "33"
      ]
     },
     "execution_count": 19,
     "metadata": {},
     "output_type": "execute_result"
    }
   ],
   "source": [
    "len(set(asia_2007.country))"
   ]
  },
  {
   "cell_type": "code",
   "execution_count": 20,
   "metadata": {},
   "outputs": [
    {
     "data": {
      "text/plain": [
       "12473.026870133333"
      ]
     },
     "execution_count": 20,
     "metadata": {},
     "output_type": "execute_result"
    }
   ],
   "source": [
    "asia_2007.gdpPerCapita.mean()"
   ]
  },
  {
   "cell_type": "code",
   "execution_count": 21,
   "metadata": {},
   "outputs": [
    {
     "data": {
      "text/plain": [
       "4471.061906"
      ]
     },
     "execution_count": 21,
     "metadata": {},
     "output_type": "execute_result"
    }
   ],
   "source": [
    "asia_2007.gdpPerCapita.median()"
   ]
  },
  {
   "cell_type": "code",
   "execution_count": 25,
   "metadata": {},
   "outputs": [
    {
     "data": {
      "image/png": "[encoded data removed]",
      "text/plain": [
       "<Figure size 432x288 with 2 Axes>"
      ]
     },
     "metadata": {
      "needs_background": "light"
     },
     "output_type": "display_data"
    }
   ],
   "source": [
    "plt.subplot(2,1,1)\n",
    "plt.hist(asia_2007.gdpPerCapita, 33, range=(0,50000), edgecolor='black')\n",
    "plt.subplot(2,1,2)\n",
    "plt.hist(europe_2007.gdpPerCapita, 30, range=(0,50000),  edgecolor='black')\n",
    "plt.show()"
   ]
  },
  {
   "cell_type": "code",
   "execution_count": 37,
   "metadata": {},
   "outputs": [],
   "source": [
    "countries_1997= countries[countries.year==1997]\n",
    "america_1997 = countries_1997[countries_1997.continent==\"Americas\"]\n",
    "europe_1997 = countries_1997[countries_1997.continent==\"Europe\"]"
   ]
  },
  {
   "cell_type": "code",
   "execution_count": 40,
   "metadata": {},
   "outputs": [
    {
     "data": {
      "text/html": [
       "<div>\n",
       "<style scoped>\n",
       "    .dataframe tbody tr th:only-of-type {\n",
       "        vertical-align: middle;\n",
       "    }\n",
       "\n",
       "    .dataframe tbody tr th {\n",
       "        vertical-align: top;\n",
       "    }\n",
       "\n",
       "    .dataframe thead th {\n",
       "        text-align: right;\n",
       "    }\n",
       "</style>\n",
       "<table border=\"1\" class=\"dataframe\">\n",
       "  <thead>\n",
       "    <tr style=\"text-align: right;\">\n",
       "      <th></th>\n",
       "      <th>country</th>\n",
       "      <th>continent</th>\n",
       "      <th>year</th>\n",
       "      <th>lifeExpectancy</th>\n",
       "      <th>population</th>\n",
       "      <th>gdpPerCapita</th>\n",
       "    </tr>\n",
       "  </thead>\n",
       "  <tbody>\n",
       "    <tr>\n",
       "      <th>57</th>\n",
       "      <td>Argentina</td>\n",
       "      <td>Americas</td>\n",
       "      <td>1997</td>\n",
       "      <td>73.275</td>\n",
       "      <td>36203463</td>\n",
       "      <td>10967.281950</td>\n",
       "    </tr>\n",
       "    <tr>\n",
       "      <th>141</th>\n",
       "      <td>Bolivia</td>\n",
       "      <td>Americas</td>\n",
       "      <td>1997</td>\n",
       "      <td>62.050</td>\n",
       "      <td>7693188</td>\n",
       "      <td>3326.143191</td>\n",
       "    </tr>\n",
       "    <tr>\n",
       "      <th>177</th>\n",
       "      <td>Brazil</td>\n",
       "      <td>Americas</td>\n",
       "      <td>1997</td>\n",
       "      <td>69.388</td>\n",
       "      <td>168546719</td>\n",
       "      <td>7957.980824</td>\n",
       "    </tr>\n",
       "    <tr>\n",
       "      <th>249</th>\n",
       "      <td>Canada</td>\n",
       "      <td>Americas</td>\n",
       "      <td>1997</td>\n",
       "      <td>78.610</td>\n",
       "      <td>30305843</td>\n",
       "      <td>28954.925890</td>\n",
       "    </tr>\n",
       "    <tr>\n",
       "      <th>285</th>\n",
       "      <td>Chile</td>\n",
       "      <td>Americas</td>\n",
       "      <td>1997</td>\n",
       "      <td>75.816</td>\n",
       "      <td>14599929</td>\n",
       "      <td>10118.053180</td>\n",
       "    </tr>\n",
       "    <tr>\n",
       "      <th>309</th>\n",
       "      <td>Colombia</td>\n",
       "      <td>Americas</td>\n",
       "      <td>1997</td>\n",
       "      <td>70.313</td>\n",
       "      <td>37657830</td>\n",
       "      <td>6117.361746</td>\n",
       "    </tr>\n",
       "    <tr>\n",
       "      <th>357</th>\n",
       "      <td>Costa Rica</td>\n",
       "      <td>Americas</td>\n",
       "      <td>1997</td>\n",
       "      <td>77.260</td>\n",
       "      <td>3518107</td>\n",
       "      <td>6677.045314</td>\n",
       "    </tr>\n",
       "    <tr>\n",
       "      <th>393</th>\n",
       "      <td>Cuba</td>\n",
       "      <td>Americas</td>\n",
       "      <td>1997</td>\n",
       "      <td>76.151</td>\n",
       "      <td>10983007</td>\n",
       "      <td>5431.990415</td>\n",
       "    </tr>\n",
       "    <tr>\n",
       "      <th>441</th>\n",
       "      <td>Dominican Republic</td>\n",
       "      <td>Americas</td>\n",
       "      <td>1997</td>\n",
       "      <td>69.957</td>\n",
       "      <td>7992357</td>\n",
       "      <td>3614.101285</td>\n",
       "    </tr>\n",
       "    <tr>\n",
       "      <th>453</th>\n",
       "      <td>Ecuador</td>\n",
       "      <td>Americas</td>\n",
       "      <td>1997</td>\n",
       "      <td>72.312</td>\n",
       "      <td>11911819</td>\n",
       "      <td>7429.455877</td>\n",
       "    </tr>\n",
       "    <tr>\n",
       "      <th>477</th>\n",
       "      <td>El Salvador</td>\n",
       "      <td>Americas</td>\n",
       "      <td>1997</td>\n",
       "      <td>69.535</td>\n",
       "      <td>5783439</td>\n",
       "      <td>5154.825496</td>\n",
       "    </tr>\n",
       "    <tr>\n",
       "      <th>609</th>\n",
       "      <td>Guatemala</td>\n",
       "      <td>Americas</td>\n",
       "      <td>1997</td>\n",
       "      <td>66.322</td>\n",
       "      <td>9803875</td>\n",
       "      <td>4684.313807</td>\n",
       "    </tr>\n",
       "    <tr>\n",
       "      <th>645</th>\n",
       "      <td>Haiti</td>\n",
       "      <td>Americas</td>\n",
       "      <td>1997</td>\n",
       "      <td>56.671</td>\n",
       "      <td>6913545</td>\n",
       "      <td>1341.726931</td>\n",
       "    </tr>\n",
       "    <tr>\n",
       "      <th>657</th>\n",
       "      <td>Honduras</td>\n",
       "      <td>Americas</td>\n",
       "      <td>1997</td>\n",
       "      <td>67.659</td>\n",
       "      <td>5867957</td>\n",
       "      <td>3160.454906</td>\n",
       "    </tr>\n",
       "    <tr>\n",
       "      <th>789</th>\n",
       "      <td>Jamaica</td>\n",
       "      <td>Americas</td>\n",
       "      <td>1997</td>\n",
       "      <td>72.262</td>\n",
       "      <td>2531311</td>\n",
       "      <td>7121.924704</td>\n",
       "    </tr>\n",
       "    <tr>\n",
       "      <th>993</th>\n",
       "      <td>Mexico</td>\n",
       "      <td>Americas</td>\n",
       "      <td>1997</td>\n",
       "      <td>73.670</td>\n",
       "      <td>95895146</td>\n",
       "      <td>9767.297530</td>\n",
       "    </tr>\n",
       "    <tr>\n",
       "      <th>1113</th>\n",
       "      <td>Nicaragua</td>\n",
       "      <td>Americas</td>\n",
       "      <td>1997</td>\n",
       "      <td>68.426</td>\n",
       "      <td>4609572</td>\n",
       "      <td>2253.023004</td>\n",
       "    </tr>\n",
       "    <tr>\n",
       "      <th>1185</th>\n",
       "      <td>Panama</td>\n",
       "      <td>Americas</td>\n",
       "      <td>1997</td>\n",
       "      <td>73.738</td>\n",
       "      <td>2734531</td>\n",
       "      <td>7113.692252</td>\n",
       "    </tr>\n",
       "    <tr>\n",
       "      <th>1197</th>\n",
       "      <td>Paraguay</td>\n",
       "      <td>Americas</td>\n",
       "      <td>1997</td>\n",
       "      <td>69.400</td>\n",
       "      <td>5154123</td>\n",
       "      <td>4247.400261</td>\n",
       "    </tr>\n",
       "    <tr>\n",
       "      <th>1209</th>\n",
       "      <td>Peru</td>\n",
       "      <td>Americas</td>\n",
       "      <td>1997</td>\n",
       "      <td>68.386</td>\n",
       "      <td>24748122</td>\n",
       "      <td>5838.347657</td>\n",
       "    </tr>\n",
       "    <tr>\n",
       "      <th>1257</th>\n",
       "      <td>Puerto Rico</td>\n",
       "      <td>Americas</td>\n",
       "      <td>1997</td>\n",
       "      <td>74.917</td>\n",
       "      <td>3759430</td>\n",
       "      <td>16999.433300</td>\n",
       "    </tr>\n",
       "    <tr>\n",
       "      <th>1557</th>\n",
       "      <td>Trinidad and Tobago</td>\n",
       "      <td>Americas</td>\n",
       "      <td>1997</td>\n",
       "      <td>69.465</td>\n",
       "      <td>1138101</td>\n",
       "      <td>8792.573126</td>\n",
       "    </tr>\n",
       "    <tr>\n",
       "      <th>1617</th>\n",
       "      <td>United States</td>\n",
       "      <td>Americas</td>\n",
       "      <td>1997</td>\n",
       "      <td>76.810</td>\n",
       "      <td>272911760</td>\n",
       "      <td>35767.433030</td>\n",
       "    </tr>\n",
       "    <tr>\n",
       "      <th>1629</th>\n",
       "      <td>Uruguay</td>\n",
       "      <td>Americas</td>\n",
       "      <td>1997</td>\n",
       "      <td>74.223</td>\n",
       "      <td>3262838</td>\n",
       "      <td>9230.240708</td>\n",
       "    </tr>\n",
       "    <tr>\n",
       "      <th>1641</th>\n",
       "      <td>Venezuela</td>\n",
       "      <td>Americas</td>\n",
       "      <td>1997</td>\n",
       "      <td>72.146</td>\n",
       "      <td>22374398</td>\n",
       "      <td>10165.495180</td>\n",
       "    </tr>\n",
       "  </tbody>\n",
       "</table>\n",
       "</div>"
      ],
      "text/plain": [
       "                  country continent  year  lifeExpectancy  population  \\\n",
       "57              Argentina  Americas  1997          73.275    36203463   \n",
       "141               Bolivia  Americas  1997          62.050     7693188   \n",
       "177                Brazil  Americas  1997          69.388   168546719   \n",
       "249                Canada  Americas  1997          78.610    30305843   \n",
       "285                 Chile  Americas  1997          75.816    14599929   \n",
       "309              Colombia  Americas  1997          70.313    37657830   \n",
       "357            Costa Rica  Americas  1997          77.260     3518107   \n",
       "393                  Cuba  Americas  1997          76.151    10983007   \n",
       "441    Dominican Republic  Americas  1997          69.957     7992357   \n",
       "453               Ecuador  Americas  1997          72.312    11911819   \n",
       "477           El Salvador  Americas  1997          69.535     5783439   \n",
       "609             Guatemala  Americas  1997          66.322     9803875   \n",
       "645                 Haiti  Americas  1997          56.671     6913545   \n",
       "657              Honduras  Americas  1997          67.659     5867957   \n",
       "789               Jamaica  Americas  1997          72.262     2531311   \n",
       "993                Mexico  Americas  1997          73.670    95895146   \n",
       "1113            Nicaragua  Americas  1997          68.426     4609572   \n",
       "1185               Panama  Americas  1997          73.738     2734531   \n",
       "1197             Paraguay  Americas  1997          69.400     5154123   \n",
       "1209                 Peru  Americas  1997          68.386    24748122   \n",
       "1257          Puerto Rico  Americas  1997          74.917     3759430   \n",
       "1557  Trinidad and Tobago  Americas  1997          69.465     1138101   \n",
       "1617        United States  Americas  1997          76.810   272911760   \n",
       "1629              Uruguay  Americas  1997          74.223     3262838   \n",
       "1641            Venezuela  Americas  1997          72.146    22374398   \n",
       "\n",
       "      gdpPerCapita  \n",
       "57    10967.281950  \n",
       "141    3326.143191  \n",
       "177    7957.980824  \n",
       "249   28954.925890  \n",
       "285   10118.053180  \n",
       "309    6117.361746  \n",
       "357    6677.045314  \n",
       "393    5431.990415  \n",
       "441    3614.101285  \n",
       "453    7429.455877  \n",
       "477    5154.825496  \n",
       "609    4684.313807  \n",
       "645    1341.726931  \n",
       "657    3160.454906  \n",
       "789    7121.924704  \n",
       "993    9767.297530  \n",
       "1113   2253.023004  \n",
       "1185   7113.692252  \n",
       "1197   4247.400261  \n",
       "1209   5838.347657  \n",
       "1257  16999.433300  \n",
       "1557   8792.573126  \n",
       "1617  35767.433030  \n",
       "1629   9230.240708  \n",
       "1641  10165.495180  "
      ]
     },
     "execution_count": 40,
     "metadata": {},
     "output_type": "execute_result"
    }
   ],
   "source": [
    "america_1997"
   ]
  },
  {
   "cell_type": "code",
   "execution_count": 39,
   "metadata": {},
   "outputs": [
    {
     "data": {
      "image/png": "[encoded data removed]",
      "text/plain": [
       "<Figure size 432x288 with 2 Axes>"
      ]
     },
     "metadata": {
      "needs_background": "light"
     },
     "output_type": "display_data"
    }
   ],
   "source": [
    "plt.subplot(2,1,1)\n",
    "plt.hist(america_1997.lifeExpectancy,25, range=(0,80), edgecolor='black')\n",
    "plt.subplot(2,1,2)\n",
    "plt.hist(europe_1997.lifeExpectancy,30, range=(0,80), edgecolor='black')\n",
    "plt.show()"
   ]
  },
  {
   "cell_type": "code",
   "execution_count": 41,
   "metadata": {},
   "outputs": [],
   "source": [
    "US_Data = countries[countries.country==\"United States\"]\n",
    "China_Data = countries[countries.country==\"China\"]"
   ]
  },
  {
   "cell_type": "code",
   "execution_count": 43,
   "metadata": {},
   "outputs": [
    {
     "data": {
      "image/png": "[encoded data removed]",
      "text/plain": [
       "<Figure size 432x288 with 1 Axes>"
      ]
     },
     "metadata": {
      "needs_background": "light"
     },
     "output_type": "display_data"
    }
   ],
   "source": [
    "plt.plot(US_Data.year,US_Data.gdpPerCapita)\n",
    "plt.plot(China_Data.year,China_Data.gdpPerCapita)\n",
    "plt.legend(['USA','China'])\n",
    "plt.xlabel('Year')\n",
    "plt.ylabel('GDP')\n",
    "plt.title('USA vs China GDP from 1952 to 2007')\n",
    "plt.show()"
   ]
  },
  {
   "cell_type": "code",
   "execution_count": 45,
   "metadata": {},
   "outputs": [],
   "source": [
    "US_Growth = US_Data.gdpPerCapita/US_Data.gdpPerCapita.iloc[0] *100\n",
    "China_Growth = China_Data.gdpPerCapita/China_Data.gdpPerCapita.iloc[0] *100"
   ]
  },
  {
   "cell_type": "code",
   "execution_count": 46,
   "metadata": {},
   "outputs": [
    {
     "data": {
      "image/png": "[encoded data removed]",
      "text/plain": [
       "<Figure size 432x288 with 1 Axes>"
      ]
     },
     "metadata": {
      "needs_background": "light"
     },
     "output_type": "display_data"
    }
   ],
   "source": [
    "plt.plot(US_Data.year,US_Growth)\n",
    "plt.plot(China_Data.year,China_Growth)\n",
    "plt.legend(['USA','China'])\n",
    "plt.xlabel('Year')\n",
    "plt.ylabel('GDP')\n",
    "plt.title('USA vs China GDP growth from 1952 to 2007')\n",
    "plt.show()"
   ]
  },
  {
   "cell_type": "code",
   "execution_count": 48,
   "metadata": {},
   "outputs": [],
   "source": [
    "import numpy as np"
   ]
  },
  {
   "cell_type": "code",
   "execution_count": 54,
   "metadata": {},
   "outputs": [
    {
     "ename": "TypeError",
     "evalue": "unsupported operand type(s) for *: '_iLocIndexer' and '_iLocIndexer'",
     "output_type": "error",
     "traceback": [
      "\u001b[0;31m---------------------------------------------------------------------------\u001b[0m",
      "\u001b[0;31mTypeError\u001b[0m                                 Traceback (most recent call last)",
      "\u001b[0;32m<ipython-input-54-7c234391ebf0>\u001b[0m in \u001b[0;36m<module>\u001b[0;34m\u001b[0m\n\u001b[1;32m      3\u001b[0m \u001b[0mgdp\u001b[0m \u001b[0;34m=\u001b[0m \u001b[0;34m[\u001b[0m\u001b[0;34m]\u001b[0m\u001b[0;34m\u001b[0m\u001b[0;34m\u001b[0m\u001b[0m\n\u001b[1;32m      4\u001b[0m \u001b[0;32mfor\u001b[0m \u001b[0mi\u001b[0m \u001b[0;32min\u001b[0m \u001b[0mrange\u001b[0m\u001b[0;34m(\u001b[0m\u001b[0;36m0\u001b[0m\u001b[0;34m,\u001b[0m\u001b[0;36m1704\u001b[0m\u001b[0;34m)\u001b[0m\u001b[0;34m:\u001b[0m\u001b[0;34m\u001b[0m\u001b[0;34m\u001b[0m\u001b[0m\n\u001b[0;32m----> 5\u001b[0;31m     \u001b[0mgdpPC\u001b[0m\u001b[0;34m=\u001b[0m \u001b[0mcountriesPop\u001b[0m\u001b[0;34m.\u001b[0m\u001b[0miloc\u001b[0m\u001b[0;34m(\u001b[0m\u001b[0mi\u001b[0m\u001b[0;34m)\u001b[0m\u001b[0;34m*\u001b[0m\u001b[0mcountriesGDP\u001b[0m\u001b[0;34m.\u001b[0m\u001b[0miloc\u001b[0m\u001b[0;34m(\u001b[0m\u001b[0mi\u001b[0m\u001b[0;34m)\u001b[0m\u001b[0;34m\u001b[0m\u001b[0;34m\u001b[0m\u001b[0m\n\u001b[0m\u001b[1;32m      6\u001b[0m     \u001b[0mgdp\u001b[0m\u001b[0;34m.\u001b[0m\u001b[0mappend\u001b[0m\u001b[0;34m(\u001b[0m\u001b[0mgdpPC\u001b[0m\u001b[0;34m)\u001b[0m\u001b[0;34m\u001b[0m\u001b[0;34m\u001b[0m\u001b[0m\n\u001b[1;32m      7\u001b[0m \u001b[0mgdp\u001b[0m\u001b[0;34m\u001b[0m\u001b[0;34m\u001b[0m\u001b[0m\n",
      "\u001b[0;31mTypeError\u001b[0m: unsupported operand type(s) for *: '_iLocIndexer' and '_iLocIndexer'"
     ]
    }
   ],
   "source": [
    "countriesPop = countries.population\n",
    "countriesGDP = countries.gdpPerCapita\n",
    "gdp = []\n",
    "for i in range(0,1704):\n",
    "    gdpPC= countriesPop.iloc(i)*countriesGDP.iloc(i)\n",
    "    gdp.append(gdpPC)\n",
    "gdp    "
   ]
  },
  {
   "cell_type": "code",
   "execution_count": 62,
   "metadata": {},
   "outputs": [],
   "source": [
    "countriesPop  = countries.population\n",
    "countriesGDP = countries.gdpPerCapita\n",
    "cc = countriesGDP * countriesPop "
   ]
  },
  {
   "cell_type": "code",
   "execution_count": 63,
   "metadata": {},
   "outputs": [
    {
     "data": {
      "text/plain": [
       "0       6.567086e+09\n",
       "1       7.585449e+09\n",
       "2       8.758856e+09\n",
       "3       9.648014e+09\n",
       "4       9.678553e+09\n",
       "            ...     \n",
       "1699    6.508241e+09\n",
       "1700    7.422612e+09\n",
       "1701    9.037851e+09\n",
       "1702    8.015111e+09\n",
       "1703    5.782658e+09\n",
       "Length: 1704, dtype: float64"
      ]
     },
     "execution_count": 63,
     "metadata": {},
     "output_type": "execute_result"
    }
   ],
   "source": [
    "cc"
   ]
  },
  {
   "cell_type": "code",
   "execution_count": 64,
   "metadata": {},
   "outputs": [],
   "source": [
    "countries['gdp'] = cc"
   ]
  },
  {
   "cell_type": "code",
   "execution_count": 65,
   "metadata": {},
   "outputs": [
    {
     "data": {
      "text/html": [
       "<div>\n",
       "<style scoped>\n",
       "    .dataframe tbody tr th:only-of-type {\n",
       "        vertical-align: middle;\n",
       "    }\n",
       "\n",
       "    .dataframe tbody tr th {\n",
       "        vertical-align: top;\n",
       "    }\n",
       "\n",
       "    .dataframe thead th {\n",
       "        text-align: right;\n",
       "    }\n",
       "</style>\n",
       "<table border=\"1\" class=\"dataframe\">\n",
       "  <thead>\n",
       "    <tr style=\"text-align: right;\">\n",
       "      <th></th>\n",
       "      <th>country</th>\n",
       "      <th>continent</th>\n",
       "      <th>year</th>\n",
       "      <th>lifeExpectancy</th>\n",
       "      <th>population</th>\n",
       "      <th>gdpPerCapita</th>\n",
       "      <th>gdp</th>\n",
       "    </tr>\n",
       "  </thead>\n",
       "  <tbody>\n",
       "    <tr>\n",
       "      <th>0</th>\n",
       "      <td>Afghanistan</td>\n",
       "      <td>Asia</td>\n",
       "      <td>1952</td>\n",
       "      <td>28.801</td>\n",
       "      <td>8425333</td>\n",
       "      <td>779.445314</td>\n",
       "      <td>6.567086e+09</td>\n",
       "    </tr>\n",
       "    <tr>\n",
       "      <th>1</th>\n",
       "      <td>Afghanistan</td>\n",
       "      <td>Asia</td>\n",
       "      <td>1957</td>\n",
       "      <td>30.332</td>\n",
       "      <td>9240934</td>\n",
       "      <td>820.853030</td>\n",
       "      <td>7.585449e+09</td>\n",
       "    </tr>\n",
       "    <tr>\n",
       "      <th>2</th>\n",
       "      <td>Afghanistan</td>\n",
       "      <td>Asia</td>\n",
       "      <td>1962</td>\n",
       "      <td>31.997</td>\n",
       "      <td>10267083</td>\n",
       "      <td>853.100710</td>\n",
       "      <td>8.758856e+09</td>\n",
       "    </tr>\n",
       "    <tr>\n",
       "      <th>3</th>\n",
       "      <td>Afghanistan</td>\n",
       "      <td>Asia</td>\n",
       "      <td>1967</td>\n",
       "      <td>34.020</td>\n",
       "      <td>11537966</td>\n",
       "      <td>836.197138</td>\n",
       "      <td>9.648014e+09</td>\n",
       "    </tr>\n",
       "    <tr>\n",
       "      <th>4</th>\n",
       "      <td>Afghanistan</td>\n",
       "      <td>Asia</td>\n",
       "      <td>1972</td>\n",
       "      <td>36.088</td>\n",
       "      <td>13079460</td>\n",
       "      <td>739.981106</td>\n",
       "      <td>9.678553e+09</td>\n",
       "    </tr>\n",
       "    <tr>\n",
       "      <th>...</th>\n",
       "      <td>...</td>\n",
       "      <td>...</td>\n",
       "      <td>...</td>\n",
       "      <td>...</td>\n",
       "      <td>...</td>\n",
       "      <td>...</td>\n",
       "      <td>...</td>\n",
       "    </tr>\n",
       "    <tr>\n",
       "      <th>1699</th>\n",
       "      <td>Zimbabwe</td>\n",
       "      <td>Africa</td>\n",
       "      <td>1987</td>\n",
       "      <td>62.351</td>\n",
       "      <td>9216418</td>\n",
       "      <td>706.157306</td>\n",
       "      <td>6.508241e+09</td>\n",
       "    </tr>\n",
       "    <tr>\n",
       "      <th>1700</th>\n",
       "      <td>Zimbabwe</td>\n",
       "      <td>Africa</td>\n",
       "      <td>1992</td>\n",
       "      <td>60.377</td>\n",
       "      <td>10704340</td>\n",
       "      <td>693.420786</td>\n",
       "      <td>7.422612e+09</td>\n",
       "    </tr>\n",
       "    <tr>\n",
       "      <th>1701</th>\n",
       "      <td>Zimbabwe</td>\n",
       "      <td>Africa</td>\n",
       "      <td>1997</td>\n",
       "      <td>46.809</td>\n",
       "      <td>11404948</td>\n",
       "      <td>792.449960</td>\n",
       "      <td>9.037851e+09</td>\n",
       "    </tr>\n",
       "    <tr>\n",
       "      <th>1702</th>\n",
       "      <td>Zimbabwe</td>\n",
       "      <td>Africa</td>\n",
       "      <td>2002</td>\n",
       "      <td>39.989</td>\n",
       "      <td>11926563</td>\n",
       "      <td>672.038623</td>\n",
       "      <td>8.015111e+09</td>\n",
       "    </tr>\n",
       "    <tr>\n",
       "      <th>1703</th>\n",
       "      <td>Zimbabwe</td>\n",
       "      <td>Africa</td>\n",
       "      <td>2007</td>\n",
       "      <td>43.487</td>\n",
       "      <td>12311143</td>\n",
       "      <td>469.709298</td>\n",
       "      <td>5.782658e+09</td>\n",
       "    </tr>\n",
       "  </tbody>\n",
       "</table>\n",
       "<p>1704 rows × 7 columns</p>\n",
       "</div>"
      ],
      "text/plain": [
       "          country continent  year  lifeExpectancy  population  gdpPerCapita  \\\n",
       "0     Afghanistan      Asia  1952          28.801     8425333    779.445314   \n",
       "1     Afghanistan      Asia  1957          30.332     9240934    820.853030   \n",
       "2     Afghanistan      Asia  1962          31.997    10267083    853.100710   \n",
       "3     Afghanistan      Asia  1967          34.020    11537966    836.197138   \n",
       "4     Afghanistan      Asia  1972          36.088    13079460    739.981106   \n",
       "...           ...       ...   ...             ...         ...           ...   \n",
       "1699     Zimbabwe    Africa  1987          62.351     9216418    706.157306   \n",
       "1700     Zimbabwe    Africa  1992          60.377    10704340    693.420786   \n",
       "1701     Zimbabwe    Africa  1997          46.809    11404948    792.449960   \n",
       "1702     Zimbabwe    Africa  2002          39.989    11926563    672.038623   \n",
       "1703     Zimbabwe    Africa  2007          43.487    12311143    469.709298   \n",
       "\n",
       "               gdp  \n",
       "0     6.567086e+09  \n",
       "1     7.585449e+09  \n",
       "2     8.758856e+09  \n",
       "3     9.648014e+09  \n",
       "4     9.678553e+09  \n",
       "...            ...  \n",
       "1699  6.508241e+09  \n",
       "1700  7.422612e+09  \n",
       "1701  9.037851e+09  \n",
       "1702  8.015111e+09  \n",
       "1703  5.782658e+09  \n",
       "\n",
       "[1704 rows x 7 columns]"
      ]
     },
     "execution_count": 65,
     "metadata": {},
     "output_type": "execute_result"
    }
   ],
   "source": [
    "countries"
   ]
  },
  {
   "cell_type": "code",
   "execution_count": 66,
   "metadata": {},
   "outputs": [],
   "source": [
    "countries_2007=countries[countries.year==2007]"
   ]
  },
  {
   "cell_type": "code",
   "execution_count": 69,
   "metadata": {},
   "outputs": [
    {
     "data": {
      "text/plain": [
       "Text(0, 0.5, 'Life Expectancy')"
      ]
     },
     "execution_count": 69,
     "metadata": {},
     "output_type": "execute_result"
    },
    {
     "data": {
      "image/png": "[encoded data removed]",
      "text/plain": [
       "<Figure size 432x288 with 1 Axes>"
      ]
     },
     "metadata": {
      "needs_background": "light"
     },
     "output_type": "display_data"
    }
   ],
   "source": [
    "plt.scatter(countries_2007.gdp,countries_2007.lifeExpectancy,5)\n",
    "plt.xlabel(\"GDP\")\n",
    "plt.ylabel(\"Life Expectancy\")"
   ]
  },
  {
   "cell_type": "code",
   "execution_count": 68,
   "metadata": {},
   "outputs": [
    {
     "data": {
      "text/plain": [
       "0.22940871508473856"
      ]
     },
     "execution_count": 68,
     "metadata": {},
     "output_type": "execute_result"
    }
   ],
   "source": [
    "countries_2007.gdp.corr(countries_2007.lifeExpectancy)"
   ]
  },
  {
   "cell_type": "code",
   "execution_count": 70,
   "metadata": {},
   "outputs": [
    {
     "data": {
      "text/plain": [
       "Text(0, 0.5, 'Life Expectancy')"
      ]
     },
     "execution_count": 70,
     "metadata": {},
     "output_type": "execute_result"
    },
    {
     "data": {
      "image/png": "[encoded data removed]",
      "text/plain": [
       "<Figure size 432x288 with 1 Axes>"
      ]
     },
     "metadata": {
      "needs_background": "light"
     },
     "output_type": "display_data"
    }
   ],
   "source": [
    "plt.scatter(np.log10(countries_2007.gdp),countries_2007.lifeExpectancy,5)\n",
    "plt.xlabel(\"GDP\")\n",
    "plt.ylabel(\"Life Expectancy\")"
   ]
  },
  {
   "cell_type": "code",
   "execution_count": 71,
   "metadata": {},
   "outputs": [
    {
     "data": {
      "text/plain": [
       "0.6000405376447577"
      ]
     },
     "execution_count": 71,
     "metadata": {},
     "output_type": "execute_result"
    }
   ],
   "source": [
    "np.log10(countries_2007.gdp).corr(countries_2007.lifeExpectancy)"
   ]
  },
  {
   "cell_type": "code",
   "execution_count": 81,
   "metadata": {},
   "outputs": [],
   "source": [
    "top10 = countries_2007.sort_values('population',ascending=False).head(10)\n",
    "top10\n",
    "top10SORTED = top10.sort_values('gdp',ascending=False)"
   ]
  },
  {
   "cell_type": "code",
   "execution_count": 75,
   "metadata": {},
   "outputs": [],
   "source": [
    "x = range(10)"
   ]
  },
  {
   "cell_type": "code",
   "execution_count": 82,
   "metadata": {},
   "outputs": [
    {
     "data": {
      "image/png": "[encoded data removed]",
      "text/plain": [
       "<Figure size 432x288 with 1 Axes>"
      ]
     },
     "metadata": {
      "needs_background": "light"
     },
     "output_type": "display_data"
    }
   ],
   "source": [
    "plt.bar(x, top10SORTED.gdp/10**9)\n",
    "plt.title('GDP of top 10 most populous countries')\n",
    "plt.ylabel('GDP in billions')\n",
    "plt.xticks(x, top10SORTED.country, rotation='vertical')\n",
    "plt.show()"
   ]
  },
  {
   "cell_type": "code",
   "execution_count": 83,
   "metadata": {},
   "outputs": [
    {
     "data": {
      "text/html": [
       "<div>\n",
       "<style scoped>\n",
       "    .dataframe tbody tr th:only-of-type {\n",
       "        vertical-align: middle;\n",
       "    }\n",
       "\n",
       "    .dataframe tbody tr th {\n",
       "        vertical-align: top;\n",
       "    }\n",
       "\n",
       "    .dataframe thead th {\n",
       "        text-align: right;\n",
       "    }\n",
       "</style>\n",
       "<table border=\"1\" class=\"dataframe\">\n",
       "  <thead>\n",
       "    <tr style=\"text-align: right;\">\n",
       "      <th></th>\n",
       "      <th>country</th>\n",
       "      <th>continent</th>\n",
       "      <th>year</th>\n",
       "      <th>lifeExpectancy</th>\n",
       "      <th>population</th>\n",
       "      <th>gdpPerCapita</th>\n",
       "      <th>gdp</th>\n",
       "    </tr>\n",
       "  </thead>\n",
       "  <tbody>\n",
       "    <tr>\n",
       "      <th>0</th>\n",
       "      <td>Afghanistan</td>\n",
       "      <td>Asia</td>\n",
       "      <td>1952</td>\n",
       "      <td>28.801</td>\n",
       "      <td>8425333</td>\n",
       "      <td>779.445314</td>\n",
       "      <td>6.567086e+09</td>\n",
       "    </tr>\n",
       "    <tr>\n",
       "      <th>1</th>\n",
       "      <td>Afghanistan</td>\n",
       "      <td>Asia</td>\n",
       "      <td>1957</td>\n",
       "      <td>30.332</td>\n",
       "      <td>9240934</td>\n",
       "      <td>820.853030</td>\n",
       "      <td>7.585449e+09</td>\n",
       "    </tr>\n",
       "    <tr>\n",
       "      <th>2</th>\n",
       "      <td>Afghanistan</td>\n",
       "      <td>Asia</td>\n",
       "      <td>1962</td>\n",
       "      <td>31.997</td>\n",
       "      <td>10267083</td>\n",
       "      <td>853.100710</td>\n",
       "      <td>8.758856e+09</td>\n",
       "    </tr>\n",
       "    <tr>\n",
       "      <th>3</th>\n",
       "      <td>Afghanistan</td>\n",
       "      <td>Asia</td>\n",
       "      <td>1967</td>\n",
       "      <td>34.020</td>\n",
       "      <td>11537966</td>\n",
       "      <td>836.197138</td>\n",
       "      <td>9.648014e+09</td>\n",
       "    </tr>\n",
       "    <tr>\n",
       "      <th>4</th>\n",
       "      <td>Afghanistan</td>\n",
       "      <td>Asia</td>\n",
       "      <td>1972</td>\n",
       "      <td>36.088</td>\n",
       "      <td>13079460</td>\n",
       "      <td>739.981106</td>\n",
       "      <td>9.678553e+09</td>\n",
       "    </tr>\n",
       "    <tr>\n",
       "      <th>...</th>\n",
       "      <td>...</td>\n",
       "      <td>...</td>\n",
       "      <td>...</td>\n",
       "      <td>...</td>\n",
       "      <td>...</td>\n",
       "      <td>...</td>\n",
       "      <td>...</td>\n",
       "    </tr>\n",
       "    <tr>\n",
       "      <th>1699</th>\n",
       "      <td>Zimbabwe</td>\n",
       "      <td>Africa</td>\n",
       "      <td>1987</td>\n",
       "      <td>62.351</td>\n",
       "      <td>9216418</td>\n",
       "      <td>706.157306</td>\n",
       "      <td>6.508241e+09</td>\n",
       "    </tr>\n",
       "    <tr>\n",
       "      <th>1700</th>\n",
       "      <td>Zimbabwe</td>\n",
       "      <td>Africa</td>\n",
       "      <td>1992</td>\n",
       "      <td>60.377</td>\n",
       "      <td>10704340</td>\n",
       "      <td>693.420786</td>\n",
       "      <td>7.422612e+09</td>\n",
       "    </tr>\n",
       "    <tr>\n",
       "      <th>1701</th>\n",
       "      <td>Zimbabwe</td>\n",
       "      <td>Africa</td>\n",
       "      <td>1997</td>\n",
       "      <td>46.809</td>\n",
       "      <td>11404948</td>\n",
       "      <td>792.449960</td>\n",
       "      <td>9.037851e+09</td>\n",
       "    </tr>\n",
       "    <tr>\n",
       "      <th>1702</th>\n",
       "      <td>Zimbabwe</td>\n",
       "      <td>Africa</td>\n",
       "      <td>2002</td>\n",
       "      <td>39.989</td>\n",
       "      <td>11926563</td>\n",
       "      <td>672.038623</td>\n",
       "      <td>8.015111e+09</td>\n",
       "    </tr>\n",
       "    <tr>\n",
       "      <th>1703</th>\n",
       "      <td>Zimbabwe</td>\n",
       "      <td>Africa</td>\n",
       "      <td>2007</td>\n",
       "      <td>43.487</td>\n",
       "      <td>12311143</td>\n",
       "      <td>469.709298</td>\n",
       "      <td>5.782658e+09</td>\n",
       "    </tr>\n",
       "  </tbody>\n",
       "</table>\n",
       "<p>1704 rows × 7 columns</p>\n",
       "</div>"
      ],
      "text/plain": [
       "          country continent  year  lifeExpectancy  population  gdpPerCapita  \\\n",
       "0     Afghanistan      Asia  1952          28.801     8425333    779.445314   \n",
       "1     Afghanistan      Asia  1957          30.332     9240934    820.853030   \n",
       "2     Afghanistan      Asia  1962          31.997    10267083    853.100710   \n",
       "3     Afghanistan      Asia  1967          34.020    11537966    836.197138   \n",
       "4     Afghanistan      Asia  1972          36.088    13079460    739.981106   \n",
       "...           ...       ...   ...             ...         ...           ...   \n",
       "1699     Zimbabwe    Africa  1987          62.351     9216418    706.157306   \n",
       "1700     Zimbabwe    Africa  1992          60.377    10704340    693.420786   \n",
       "1701     Zimbabwe    Africa  1997          46.809    11404948    792.449960   \n",
       "1702     Zimbabwe    Africa  2002          39.989    11926563    672.038623   \n",
       "1703     Zimbabwe    Africa  2007          43.487    12311143    469.709298   \n",
       "\n",
       "               gdp  \n",
       "0     6.567086e+09  \n",
       "1     7.585449e+09  \n",
       "2     8.758856e+09  \n",
       "3     9.648014e+09  \n",
       "4     9.678553e+09  \n",
       "...            ...  \n",
       "1699  6.508241e+09  \n",
       "1700  7.422612e+09  \n",
       "1701  9.037851e+09  \n",
       "1702  8.015111e+09  \n",
       "1703  5.782658e+09  \n",
       "\n",
       "[1704 rows x 7 columns]"
      ]
     },
     "execution_count": 83,
     "metadata": {},
     "output_type": "execute_result"
    }
   ],
   "source": [
    "countries"
   ]
  },
  {
   "cell_type": "code",
   "execution_count": 84,
   "metadata": {},
   "outputs": [
    {
     "data": {
      "text/plain": [
       "113523.1329"
      ]
     },
     "execution_count": 84,
     "metadata": {},
     "output_type": "execute_result"
    }
   ],
   "source": [
    "max(countries.gdpPerCapita)"
   ]
  },
  {
   "cell_type": "code",
   "execution_count": 88,
   "metadata": {},
   "outputs": [
    {
     "data": {
      "text/html": [
       "<div>\n",
       "<style scoped>\n",
       "    .dataframe tbody tr th:only-of-type {\n",
       "        vertical-align: middle;\n",
       "    }\n",
       "\n",
       "    .dataframe tbody tr th {\n",
       "        vertical-align: top;\n",
       "    }\n",
       "\n",
       "    .dataframe thead th {\n",
       "        text-align: right;\n",
       "    }\n",
       "</style>\n",
       "<table border=\"1\" class=\"dataframe\">\n",
       "  <thead>\n",
       "    <tr style=\"text-align: right;\">\n",
       "      <th></th>\n",
       "      <th>country</th>\n",
       "      <th>continent</th>\n",
       "      <th>year</th>\n",
       "      <th>lifeExpectancy</th>\n",
       "      <th>population</th>\n",
       "      <th>gdpPerCapita</th>\n",
       "      <th>gdp</th>\n",
       "    </tr>\n",
       "  </thead>\n",
       "  <tbody>\n",
       "    <tr>\n",
       "      <th>853</th>\n",
       "      <td>Kuwait</td>\n",
       "      <td>Asia</td>\n",
       "      <td>1957</td>\n",
       "      <td>58.033</td>\n",
       "      <td>212846</td>\n",
       "      <td>113523.1329</td>\n",
       "      <td>2.416294e+10</td>\n",
       "    </tr>\n",
       "  </tbody>\n",
       "</table>\n",
       "</div>"
      ],
      "text/plain": [
       "    country continent  year  lifeExpectancy  population  gdpPerCapita  \\\n",
       "853  Kuwait      Asia  1957          58.033      212846   113523.1329   \n",
       "\n",
       "              gdp  \n",
       "853  2.416294e+10  "
      ]
     },
     "execution_count": 88,
     "metadata": {},
     "output_type": "execute_result"
    }
   ],
   "source": [
    "countries[countries.gdpPerCapita==113523.1329]"
   ]
  },
  {
   "cell_type": "code",
   "execution_count": 89,
   "metadata": {},
   "outputs": [],
   "source": [
    "countries_1952 = countries[countries.year==1952]"
   ]
  },
  {
   "cell_type": "code",
   "execution_count": 93,
   "metadata": {},
   "outputs": [
    {
     "data": {
      "text/plain": [
       "[24512205618.937714,\n",
       " 19322741457.563305,\n",
       " 184719219280.3053,\n",
       " 44684338684.911156,\n",
       " 409357306251.9477,\n",
       " 616402104792.1135,\n",
       " 253713134007.94827,\n",
       " 19924214601.728863,\n",
       " 177229762138.47046,\n",
       " 277302479803.82166,\n",
       " 9795753677.001123,\n",
       " 27135073817.63247,\n",
       " 31179895371.732193,\n",
       " 20227122935.15114,\n",
       " 1603227030940.835,\n",
       " 60431988212.74437,\n",
       " 15007122209.490847,\n",
       " 2778720761.490282,\n",
       " 22489342636.335026,\n",
       " 30263544848.317436,\n",
       " 1044634262414.7426,\n",
       " 1700806387.352871,\n",
       " 14285853025.864992,\n",
       " 189369043633.46445,\n",
       " 6316745972355.196,\n",
       " 283402411262.00446,\n",
       " 531321683.47193605,\n",
       " 6926075349.951323,\n",
       " 11988773626.72985,\n",
       " 37438121551.00697,\n",
       " 23692342669.7879,\n",
       " 53579138402.64555,\n",
       " 68597583823.68535,\n",
       " 170810029306.8957,\n",
       " 150899829428.73883,\n",
       " 865111588.5212831,\n",
       " 52672018098.58735,\n",
       " 82047296139.22578,\n",
       " 416440012593.3834,\n",
       " 33525714837.05513,\n",
       " 6617845389.729481,\n",
       " 2673667568.0197105,\n",
       " 45300125990.12562,\n",
       " 147674488086.09848,\n",
       " 1562744577523.4832,\n",
       " 17407404374.17339,\n",
       " 1132950994.4885015,\n",
       " 2156884303000.0352,\n",
       " 25280887050.98754,\n",
       " 267530514766.09747,\n",
       " 57563672112.2548,\n",
       " 8018058263.925752,\n",
       " 678543886.9191558,\n",
       " 4325384545.146125,\n",
       " 23224169744.01509,\n",
       " 270803323759.5989,\n",
       " 129273039863.37553,\n",
       " 9848760145.742151,\n",
       " 2519602980033.217,\n",
       " 729989156054.2688,\n",
       " 753632153024.6854,\n",
       " 100479363379.09512,\n",
       " 151759606805.84894,\n",
       " 157406008021.1659,\n",
       " 1426204122548.2102,\n",
       " 16219433087.81489,\n",
       " 3756999887872.9927,\n",
       " 26416783811.484406,\n",
       " 46589238163.84464,\n",
       " 27473060317.7371,\n",
       " 1123516206122.3237,\n",
       " 101189277542.18703,\n",
       " 34060878594.828598,\n",
       " 2934753152.638619,\n",
       " 827015635.2080941,\n",
       " 70355434212.74619,\n",
       " 13152854471.190323,\n",
       " 9042765631.207876,\n",
       " 296708932848.4129,\n",
       " 10807982240.065456,\n",
       " 5136544964.6080475,\n",
       " 12689343637.982748,\n",
       " 1197127351659.3206,\n",
       " 8267867690.105894,\n",
       " 5240814867.857462,\n",
       " 112178902147.37054,\n",
       " 13413625256.541908,\n",
       " 38436527444.0,\n",
       " 8709566390.026186,\n",
       " 26529819466.507347,\n",
       " 516933020514.6315,\n",
       " 82597536342.55978,\n",
       " 11975012467.69962,\n",
       " 5415902900.0655575,\n",
       " 236271098555.81085,\n",
       " 194826606145.2353,\n",
       " 70592663898.98965,\n",
       " 412804617854.3015,\n",
       " 29471320876.64031,\n",
       " 24783377194.265133,\n",
       " 182283785049.29276,\n",
       " 262018571835.7061,\n",
       " 489115954480.1539,\n",
       " 192120169031.84036,\n",
       " 69339736872.3489,\n",
       " 5420822052.282952,\n",
       " 188475290679.81415,\n",
       " 6396931275.1816635,\n",
       " 266229386.0780905,\n",
       " 571820949074.8235,\n",
       " 17011152192.64706,\n",
       " 74766582490.98036,\n",
       " 3414330968.417714,\n",
       " 212034160407.70773,\n",
       " 83693822457.92445,\n",
       " 45496362177.448715,\n",
       " 5575237131.570248,\n",
       " 340438776249.73553,\n",
       " 1056298695901.1831,\n",
       " 72254429825.23402,\n",
       " 96319440326.39131,\n",
       " 4780763181.18132,\n",
       " 245032262395.1593,\n",
       " 212402950706.53522,\n",
       " 74805785493.91515,\n",
       " 655205949092.2563,\n",
       " 36274346926.561584,\n",
       " 469170989646.31146,\n",
       " 3986118978.3057528,\n",
       " 17023959133.583118,\n",
       " 67531387730.89216,\n",
       " 558095210065.8291,\n",
       " 26535238679.515415,\n",
       " 1514702696930.0547,\n",
       " 10730216111934.746,\n",
       " 23703300824.777084,\n",
       " 255948244174.98352,\n",
       " 192293473767.1031,\n",
       " 10594913184.114471,\n",
       " 46779562620.151276,\n",
       " 11865872907.351753,\n",
       " 4529086219.862605]"
      ]
     },
     "execution_count": 93,
     "metadata": {},
     "output_type": "execute_result"
    }
   ],
   "source": [
    "a=[]\n",
    "for i in range (0,142):\n",
    "    num = (countries_2007.gdp.iloc[i])-(countries_1952.gdp.iloc[i])\n",
    "    a.append(num)\n",
    "a"
   ]
  },
  {
   "cell_type": "code",
   "execution_count": 94,
   "metadata": {},
   "outputs": [
    {
     "data": {
      "text/plain": [
       "134"
      ]
     },
     "execution_count": 94,
     "metadata": {},
     "output_type": "execute_result"
    }
   ],
   "source": [
    "a.index(max(a))"
   ]
  },
  {
   "cell_type": "code",
   "execution_count": 95,
   "metadata": {},
   "outputs": [
    {
     "data": {
      "text/plain": [
       "country           United States\n",
       "continent              Americas\n",
       "year                       2007\n",
       "lifeExpectancy           78.242\n",
       "population            301139947\n",
       "gdpPerCapita            42951.7\n",
       "gdp                 1.29345e+13\n",
       "Name: 1619, dtype: object"
      ]
     },
     "execution_count": 95,
     "metadata": {},
     "output_type": "execute_result"
    }
   ],
   "source": [
    "#The United States had the largest overall GDP growth\n",
    "countries_2007.iloc[134]"
   ]
  },
  {
   "cell_type": "code",
   "execution_count": 102,
   "metadata": {},
   "outputs": [],
   "source": [
    "b = []\n",
    "for i in range(0,142):\n",
    "    percentGDP = a[i]/countries_1952.gdp.iloc[i]\n",
    "    b.append(percentGDP)"
   ]
  },
  {
   "cell_type": "code",
   "execution_count": 103,
   "metadata": {},
   "outputs": [
    {
     "data": {
      "text/plain": [
       "[3.732584648253897,\n",
       " 9.408883791032162,\n",
       " 8.128232199222364,\n",
       " 2.9990380442253146,\n",
       " 3.8736900539342916,\n",
       " 7.06427420176643,\n",
       " 5.967436790695081,\n",
       " 16.764722315014758,\n",
       " 5.524263783684309,\n",
       " 3.807076875012053,\n",
       " 5.302459565778748,\n",
       " 3.5150993490790516,\n",
       " 11.475300119301256,\n",
       " 53.72256184143017,\n",
       " 13.430551048981064,\n",
       " 3.3985034834964423,\n",
       " 6.179993400568667,\n",
       " 3.3487055114211692,\n",
       " 13.00311960662712,\n",
       " 5.152144198124203,\n",
       " 6.2154670317309435,\n",
       " 1.229078019269505,\n",
       " 4.518370819025573,\n",
       " 7.536271419447817,\n",
       " 28.35737558832434,\n",
       " 10.701912038345318,\n",
       " 3.129287023114362,\n",
       " 0.6293199322641188,\n",
       " 6.5975265338370965,\n",
       " 15.384832668771905,\n",
       " 5.731270225344644,\n",
       " 4.424521085969451,\n",
       " 2.0438581517649386,\n",
       " 2.722244056175578,\n",
       " 3.5922716765857774,\n",
       " 5.131814287981161,\n",
       " 15.126087961951468,\n",
       " 6.564255806444316,\n",
       " 13.207349663525592,\n",
       " 5.383692664321745,\n",
       " 81.19952618313961,\n",
       " 5.649390941481928,\n",
       " 5.996274240253793,\n",
       " 5.619380685415688,\n",
       " 5.235617025029439,\n",
       " 9.637188502468184,\n",
       " 8.212123665253822,\n",
       " 4.366281074687692,\n",
       " 4.970720505645694,\n",
       " 9.798321361829611,\n",
       " 7.534353105529581,\n",
       " 5.898708404772356,\n",
       " 3.8972364237265222,\n",
       " 0.7341223108378125,\n",
       " 6.972764944502977,\n",
       " 41.70443403694568,\n",
       " 2.5841193319654234,\n",
       " 9.158726018602712,\n",
       " 12.39215281800292,\n",
       " 11.867257173766124,\n",
       " 14.375118960061561,\n",
       " 4.47107094987568,\n",
       " 9.866333683342441,\n",
       " 23.763339717520683,\n",
       " 6.067396574965598,\n",
       " 3.923821852021494,\n",
       " 13.507832937206905,\n",
       " 28.091398825276535,\n",
       " 8.444167206044956,\n",
       " 2.8475059492700705,\n",
       " 52.04257874589554,\n",
       " 5.835202574188338,\n",
       " 4.893916432909504,\n",
       " 13.115617031361605,\n",
       " 1.6643610536741409,\n",
       " 28.897532106316064,\n",
       " 1.9137164962162476,\n",
       " 8.39508008705279,\n",
       " 24.011061293563085,\n",
       " 6.225275089188218,\n",
       " 6.759700177004222,\n",
       " 12.482639513659857,\n",
       " 11.417989867871068,\n",
       " 13.12828860299175,\n",
       " 4.783245143110156,\n",
       " 6.685504701639053,\n",
       " 4.441205270667736,\n",
       " 5.779249615530456,\n",
       " 7.3963598795676,\n",
       " 5.292804233556899,\n",
       " 5.568521248343238,\n",
       " 3.9223466731084504,\n",
       " 3.3003900758805265,\n",
       " 2.1034699568372632,\n",
       " 6.622207445266899,\n",
       " 5.799305383172069,\n",
       " 76.03398415853567,\n",
       " 14.583779237962926,\n",
       " 12.639110429883184,\n",
       " 8.159001542132403,\n",
       " 6.042934034089798,\n",
       " 9.173746920483442,\n",
       " 4.717695845144487,\n",
       " 7.3438610775458,\n",
       " 10.10264295937675,\n",
       " 7.736772857202837,\n",
       " 3.6040843063047516,\n",
       " 5.115335150389976,\n",
       " 5.04368564647979,\n",
       " 22.099454142312783,\n",
       " 4.256419041302974,\n",
       " 3.0430849058742715,\n",
       " 1.810735782006115,\n",
       " 81.26527191592753,\n",
       " 4.635150758922138,\n",
       " 7.246512354390355,\n",
       " 1.9425689743572156,\n",
       " 5.050568295446028,\n",
       " 9.649983364115258,\n",
       " 8.353960036411616,\n",
       " 7.008380370215109,\n",
       " 14.343367717565037,\n",
       " 4.032914850813124,\n",
       " 2.9938961258902386,\n",
       " 12.430955134354035,\n",
       " 63.48992322854703,\n",
       " 6.081580675192762,\n",
       " 29.08135023402036,\n",
       " 3.8028087253560336,\n",
       " 8.495092183765355,\n",
       " 12.60711313452899,\n",
       " 12.746470642529996,\n",
       " 6.200126493497199,\n",
       " 3.00974206872696,\n",
       " 4.867983666061298,\n",
       " 1.8403647694392296,\n",
       " 6.118890948897842,\n",
       " 12.108335198947449,\n",
       " 6.783146342866392,\n",
       " 12.055617721123598,\n",
       " 3.870371210593725,\n",
       " 3.6129442867485198]"
      ]
     },
     "execution_count": 103,
     "metadata": {},
     "output_type": "execute_result"
    }
   ],
   "source": [
    "b"
   ]
  },
  {
   "cell_type": "code",
   "execution_count": 104,
   "metadata": {},
   "outputs": [
    {
     "data": {
      "text/plain": [
       "81.26527191592753"
      ]
     },
     "execution_count": 104,
     "metadata": {},
     "output_type": "execute_result"
    }
   ],
   "source": [
    "(max(b))"
   ]
  },
  {
   "cell_type": "code",
   "execution_count": 105,
   "metadata": {},
   "outputs": [
    {
     "data": {
      "text/plain": [
       "113"
      ]
     },
     "execution_count": 105,
     "metadata": {},
     "output_type": "execute_result"
    }
   ],
   "source": [
    "b.index(81.26527191592753)"
   ]
  },
  {
   "cell_type": "code",
   "execution_count": 106,
   "metadata": {},
   "outputs": [
    {
     "data": {
      "text/plain": [
       "country             Singapore\n",
       "continent                Asia\n",
       "year                     2007\n",
       "lifeExpectancy         79.972\n",
       "population            4553009\n",
       "gdpPerCapita          47143.2\n",
       "gdp               2.14643e+11\n",
       "Name: 1367, dtype: object"
      ]
     },
     "execution_count": 106,
     "metadata": {},
     "output_type": "execute_result"
    }
   ],
   "source": [
    "#largest % growth gdp\n",
    "countries_2007.iloc[113]"
   ]
  },
  {
   "cell_type": "code",
   "execution_count": null,
   "metadata": {},
   "outputs": [],
   "source": []
  }
 ],
 "metadata": {
  "kernelspec": {
   "display_name": "Python 3",
   "language": "python",
   "name": "python3"
  },
  "language_info": {
   "codemirror_mode": {
    "name": "ipython",
    "version": 3
   },
   "file_extension": ".py",
   "mimetype": "text/x-python",
   "name": "python",
   "nbconvert_exporter": "python",
   "pygments_lexer": "ipython3",
   "version": "3.8.3"
  }
 },
 "nbformat": 4,
 "nbformat_minor": 4
}
